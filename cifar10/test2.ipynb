{
 "cells": [
  {
   "cell_type": "code",
   "execution_count": 1,
   "metadata": {},
   "outputs": [],
   "source": [
    "import csv\n",
    "\n",
    "# 入力ファイル名と出力ファイル名\n",
    "input_filename = 'result.txt'\n",
    "output_filename = 'output.csv'\n",
    "\n",
    "# 入力ファイルを開き、行を読み込む\n",
    "with open(input_filename, 'r') as input_file:\n",
    "    lines = input_file.readlines()\n",
    "\n",
    "# 出力ファイルを開き、行を書き込む\n",
    "with open(output_filename, 'w', newline='') as output_file:\n",
    "    writer = csv.writer(output_file)\n",
    "    for line in lines:\n",
    "        # 空白で分割し、リストを作成\n",
    "        row = line.split()\n",
    "        # リストをCSVファイルに書き込む\n",
    "        writer.writerow(row)"
   ]
  }
 ],
 "metadata": {
  "kernelspec": {
   "display_name": "env_tf",
   "language": "python",
   "name": "python3"
  },
  "language_info": {
   "codemirror_mode": {
    "name": "ipython",
    "version": 3
   },
   "file_extension": ".py",
   "mimetype": "text/x-python",
   "name": "python",
   "nbconvert_exporter": "python",
   "pygments_lexer": "ipython3",
   "version": "3.10.12"
  }
 },
 "nbformat": 4,
 "nbformat_minor": 2
}
